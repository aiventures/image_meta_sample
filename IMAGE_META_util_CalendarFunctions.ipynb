{
 "cells": [
  {
   "cell_type": "markdown",
   "metadata": {},
   "source": [
    "# Calendar Functions\n",
    "The Util Class provides a couple of date and calendar functions"
   ]
  },
  {
   "cell_type": "code",
   "execution_count": null,
   "metadata": {},
   "outputs": [],
   "source": [
    "from image_meta.util import Util\n",
    "from datetime import date\n",
    "from datetime import datetime\n",
    "from datetime import timedelta"
   ]
  },
  {
   "cell_type": "markdown",
   "metadata": {},
   "source": [
    "## Datetime with Timezone from String\n",
    "Including Timezones is a bit complicated at time with PYthon. For defined date time calculation here's a couple of helper methods"
   ]
  },
  {
   "cell_type": "code",
   "execution_count": null,
   "metadata": {},
   "outputs": [],
   "source": [
    "# Creating Datetime from string, allowed formats\n",
    "# ####:##:## ##:##:##  (datetime localized with local_tz) \n",
    "# ####-##-##T##:##:##Z  (UTC) \n",
    "# ####-##-##T##:##:##.000Z\n",
    "# ####-##-##T##:##:##(+/-)##:## (UTC TIme Zone Offsets)\n",
    "\n",
    "s1 = \"2020:01:01 01:02:03\"\n",
    "d1 = Util.get_datetime_from_string(s1,local_tz=\"Europe/Berlin\",debug=True)"
   ]
  },
  {
   "cell_type": "code",
   "execution_count": null,
   "metadata": {
    "scrolled": true
   },
   "outputs": [],
   "source": [
    "# calculates utc timestamp\n",
    "s1 = \"2020:01:01 01:02:03\"\n",
    "Util.get_timestamp(s1,local_tz='Europe/Berlin',debug=True)"
   ]
  },
  {
   "cell_type": "code",
   "execution_count": null,
   "metadata": {
    "scrolled": true
   },
   "outputs": [],
   "source": [
    "# localize datetime into source timezone and output into target timezone\n",
    "dt = datetime(2020,5,1,10,30,35)\n",
    "Util.get_localized_datetime(dt,tz_in=\"Europe/Berlin\",tz_out=\"UTC\",as_timestamp=False,debug=True)"
   ]
  },
  {
   "cell_type": "markdown",
   "metadata": {},
   "source": [
    "## Calculate Offset Time Difference\n",
    "Use Case: Calculating Offset for taking Images having a timestamp offset to a GPS log"
   ]
  },
  {
   "cell_type": "code",
   "execution_count": null,
   "metadata": {},
   "outputs": [],
   "source": [
    "#calculate difference / time offset of two datetime strings, returns a timedelta\n",
    "s1 = \"2020:01:01 01:02:13\"\n",
    "s2 = \"2020:01:01 01:02:03\"\n",
    "Util.get_time_offset(time_camera=s2,time_gps=s1,debug=True)"
   ]
  },
  {
   "cell_type": "markdown",
   "metadata": {},
   "source": [
    "## Easter Sunday and Vacation calculation\n",
    "Credit of writing up the calculations goes here: Source: https://www.tondering.dk/claus/cal/easter.php\n",
    "\n",
    "All variable vacation holidays in Germany will depend on Easter Sunday"
   ]
  },
  {
   "cell_type": "code",
   "execution_count": null,
   "metadata": {
    "scrolled": true
   },
   "outputs": [],
   "source": [
    "# calculates easter sunday (in essence a full moon equation) for a given year, check help for reference \n",
    "n = datetime.now()\n",
    "Util.get_easter_sunday(n.year,verbose=False,showinfo=True)"
   ]
  },
  {
   "cell_type": "code",
   "execution_count": null,
   "metadata": {
    "scrolled": true
   },
   "outputs": [],
   "source": [
    "# Get vacation holidays for BadenWürttemberg, Germany, also returns day-off information\n",
    "holiday_dict = Util.get_holiday_dates(datetime.now().year,show_info=True)\n",
    "print(\"\\n\")\n",
    "Util.print_dict_info(holiday_dict)"
   ]
  },
  {
   "cell_type": "markdown",
   "metadata": {},
   "source": [
    "## Other Calendar Calculation\n",
    "Calculation of leap year, and Isoweek properties\n",
    "* https://en.wikipedia.org/wiki/Leap_year#Algorithm\n",
    "* https://de.wikipedia.org/wiki/Woche#Z%C3%A4hlweise_nach_ISO_8601\n",
    "* https://en.wikipedia.org/wiki/ISO_week_date#Algorithms"
   ]
  },
  {
   "cell_type": "code",
   "execution_count": null,
   "metadata": {},
   "outputs": [],
   "source": [
    "# Checks for leap year\n",
    "y = datetime.now().year\n",
    "Util.is_leap_year(y)"
   ]
  },
  {
   "cell_type": "code",
   "execution_count": null,
   "metadata": {},
   "outputs": [],
   "source": [
    "# returns monday date of first isoweek of a given calendar year can also be in previous calendar year\n",
    "y = datetime.now().year\n",
    "Util.get_1st_isoweek_date(y)"
   ]
  },
  {
   "cell_type": "code",
   "execution_count": null,
   "metadata": {},
   "outputs": [],
   "source": [
    "# gets isoweekyear properties\n",
    "y = datetime.now().year\n",
    "Util.get_isoweekyear(y)"
   ]
  },
  {
   "cell_type": "code",
   "execution_count": null,
   "metadata": {},
   "outputs": [],
   "source": [
    "# for given date, returns isoweek properties / datetime needs to be converted before\n",
    "d = datetime.now().date()\n",
    "Util.isoweek(d)"
   ]
  }
 ],
 "metadata": {
  "kernelspec": {
   "display_name": "Python 3",
   "language": "python",
   "name": "python3"
  },
  "language_info": {
   "codemirror_mode": {
    "name": "ipython",
    "version": 3
   },
   "file_extension": ".py",
   "mimetype": "text/x-python",
   "name": "python",
   "nbconvert_exporter": "python",
   "pygments_lexer": "ipython3",
   "version": "3.6.6"
  }
 },
 "nbformat": 4,
 "nbformat_minor": 4
}
