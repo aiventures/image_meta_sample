{
 "cells": [
  {
   "cell_type": "markdown",
   "metadata": {},
   "source": [
    "# The IMAGE_META module Elevator Pitch\n",
    "\n",
    "**_I am a photographer who is tired of maintaining image metadata (EXIF, ITPC, ...) in various tools, especially normal tags and geo coordinates and geo reverse tags like location, city, ... and so on._**\n",
    "\n",
    "**_This Python module provides a command line level solution to this problem by using exiftool to write data into jpg images._**\n",
    "\n",
    "# Showcasing IMAGE_META package\n",
    "The GPS_WRITER_SHOWCASE notbook provides numerous manipulation features for manipulating jpg Image metadata leveraging the great [EXIF Tool](https://exiftool.org/) and using open street map geo API https://nominatim.org/release-docs/develop/api/Overview/ for getting geo meta data.\n",
    "\n",
    "To get more information on IPTC-IIM metadata (International Press Telecommunications Council-Information Interchange Model) check out the following documentation sources: https://www.iptc.org/std/photometadata/documentation/\n",
    "\n",
    "The package contains the following modules:\n",
    "\n",
    "* **geo.py** coordinate calculations, access to nominatim API for reverse geo encoding (coordinates to site plain text information), gpx file handling\n",
    "* **persistence.py** reading + writing plain + json files\n",
    "* **exif.py** exiftool interface + image metadata handling / transformation \n",
    "* **util** datetime calculations, binary search in list, ...\n",
    "* **controller** packaging functions into helper methods for convenient use\n",
    "\n",
    "For an operational example refer to the notebook [IMAGE_META_WORKFLOW](./IMAGE_META_WORKFLOW.ipynb)\n",
    "\n",
    "Caveat: Mind the usage terms from Nominatim https://operations.osmfoundation.org/policies/nominatim/ ! So reverse search is only accceptable for a small amount of requests!"
   ]
  },
  {
   "cell_type": "markdown",
   "metadata": {},
   "source": [
    "## Exiftool Command Lines\n",
    "You need to install exiftool and set path variables accordingly to be able to execute it in target directory. Find some examples her, for more info check out the following sources:\n",
    "\n",
    "* **[EXIFTOOL FAQ](https://exiftool.org/faq.html 'EXIFTOOL FAQ')**\n",
    "* **[EXIFTOOL EXAMPLES](https://exiftool.org/examples.html 'EXIFTOOL EXAMPLES')**\n",
    "* **[EXIFTOOL DOCUMENTATION](https://exiftool.org/exiftool_pod.html 'EXIFTOOL DOCUMENTATION')**\n",
    "* **[EXIFTOOL GEOTAGGING](https://exiftool.org/geotag.html 'EXIFTOOL GEOTAGGING')**"
   ]
  },
  {
   "cell_type": "code",
   "execution_count": null,
   "metadata": {},
   "outputs": [],
   "source": [
    "# here's import of all packages required to execute below examples\n",
    "import os\n",
    "from importlib import reload\n",
    "from datetime import datetime\n",
    "from datetime import timedelta\n",
    "import pytz\n",
    "\n",
    "import image_meta\n",
    "import image_meta.persistence\n",
    "import image_meta.util\n",
    "import image_meta.geo\n",
    "reload(image_meta)\n",
    "reload(image_meta.persistence)\n",
    "reload(image_meta.util)\n",
    "reload(image_meta.geo)\n",
    "\n",
    "# Import classes\n",
    "from image_meta.persistence import Persistence as P\n",
    "from image_meta.util import Util as U\n",
    "from image_meta.geo import Geo as G\n",
    "from image_meta.exif import ExifTool as E"
   ]
  },
  {
   "cell_type": "markdown",
   "metadata": {},
   "source": [
    "## Preparation\n",
    "Showcasing Geo URLs and reading data from a json config file"
   ]
  },
  {
   "cell_type": "code",
   "execution_count": null,
   "metadata": {
    "scrolled": true,
    "tags": []
   },
   "outputs": [],
   "source": [
    "# Sample Data\n",
    "coords = {\"Stuttgart\":{\"lat\":48.7835,\"lon\":9.1850},\n",
    "          \"Tübingen\":{\"lat\":48.52027,\"lon\":9.05361}}\n",
    "lat,lon = list(coords[\"Tübingen\"].values())\n",
    "# OSM Link can be constructed like\n",
    "print(f\"Tübingen OSM Link -> https://www.openstreetmap.org/#map=15/{lat}/{lon}\")\n",
    "print(\"Reverse Seaarch link:\")\n",
    "# Reverse Search url for this link is (click to see the data)\n",
    "print(f\"\"\"https://nominatim.openstreetmap.org/reverse?format=jsonv2&lat={lat}\\\n",
    "&lon={lon}&addressdetails=16&namedetails=1&extratags=1\"\"\")\n",
    "# timezone\n",
    "tz_local = pytz.timezone(\"Europe/Berlin\")\n",
    "tz_utc = pytz.timezone(\"UTC\")\n",
    "\n",
    "\n"
   ]
  },
  {
   "cell_type": "code",
   "execution_count": null,
   "metadata": {},
   "outputs": [],
   "source": [
    "# copy sample files to work directory (so you can always use the original samples)\n",
    "work_dir = os.getcwd()\n",
    "sample_dir = os.path.join(work_dir,\"Sample\")\n",
    "# files customized to your own requirements go into 00_OWN_STUFF\n",
    "work_dir_ownstuff = os.path.join(sample_dir,\"00_OWN_STUFF\")\n",
    "# files with GPS data\n",
    "work_dir_gps = os.path.join(sample_dir,\"10_RAW_GPS\")\n",
    "# files without GPS data\n",
    "work_dir_nogps = os.path.join(sample_dir,\"10_RAW_NOGPS\")\n",
    "# files with exif metadata\n",
    "work_dir_meta = os.path.join(sample_dir,\"10_RAW_WITH_META\")\n",
    "# original metadata\n",
    "meta_dir = os.path.join(sample_dir,\"00_META\")\n",
    "# work directory\n",
    "target_dir = os.path.join(sample_dir,\"img_test\")\n",
    "print(f\"Original Jupyter path: {work_dir}, \\n           Target path {target_dir}\\n\")\n",
    "# path to sample images / check the other Jupyter file\n",
    "img_path = target_dir\n",
    "print(f\"\\n- Image path {img_path}, is valid: {os.path.isdir(img_path)}\")   "
   ]
  },
  {
   "cell_type": "markdown",
   "metadata": {},
   "source": [
    "Copying all sample files into working subdirectory `img_test`"
   ]
  },
  {
   "cell_type": "code",
   "execution_count": null,
   "metadata": {
    "scrolled": false
   },
   "outputs": [],
   "source": [
    "# copy all test file to target work dir\n",
    "# check the docuemtation\n",
    "regex_filter=None\n",
    "regex_subst=None\n",
    "s_subst=\"\"\n",
    "debug=True\n",
    "save=True\n",
    "# copy images amnd meta files\n",
    "dirs = [work_dir_ownstuff,work_dir_gps,work_dir_nogps,meta_dir,work_dir_meta]\n",
    "for d in dirs:\n",
    "    P.copy_rename(d,target_dir,\n",
    "                  regex_filter=regex_filter,regex_subst=regex_subst,\n",
    "                  s_subst=s_subst,debug=debug,save=save)  \n",
    "\n",
    "# path to sample images / check the other Jupyter file\n",
    "img_path = target_dir\n",
    "print(f\"\\n- Image path {img_path}, is valid: {os.path.isdir(img_path)}\")    "
   ]
  },
  {
   "cell_type": "markdown",
   "metadata": {},
   "source": [
    "**Reading work_settings.json** \n",
    "\n",
    "=> it should contain at least reference to your exiftool file:\n",
    "Copy `work_settings_template.json`in working folder `\\Sample\\img_test` (if it exists already, see below) to file name `work_settings.json`, adjust the path of value `exiftool` pointing to your exiftool.exe file. Additionally you can place this file to `\\Sample\\00_OWN_STUFF` so that it will be copied every time when you'll copy over all working sample files as done with the cell below. "
   ]
  },
  {
   "cell_type": "code",
   "execution_count": null,
   "metadata": {},
   "outputs": [],
   "source": [
    "# Reading configuration data (modify config.json to your own environment) from json file\n",
    "curr_path = os.path.abspath(os.getcwd())\n",
    "config_path = os.path.join(img_path,\"work_settings.json\")\n",
    "config = P.read_json(config_path)\n",
    "exiftool_path = config[\"exiftool\"]\n",
    "# image path for sample\n",
    "print(f\"\\n- Exiftool path {exiftool_path}, is valid: {os.path.isfile(exiftool_path)}\")\n",
    "work_dir = os.path.join(curr_path,\"Sample\")"
   ]
  },
  {
   "cell_type": "markdown",
   "metadata": {},
   "source": [
    "## Exiftool Command Line Examples\n",
    "This code shows how to use Exiftool in the command line to get metadata (in this case all fields containing date) and write them to a json file"
   ]
  },
  {
   "cell_type": "code",
   "execution_count": null,
   "metadata": {},
   "outputs": [],
   "source": [
    "import os\n",
    "\n",
    "curr_path = os.path.abspath(os.getcwd())\n",
    "print(f\"Current Path {curr_path}\\n\")\n",
    "\n",
    "#get test.jpg samples in samples subdirectory\n",
    "sample_file = os.path.join(img_path, \"IMG_20200615_115045984_GPS.jpg\")\n",
    "sample_json = os.path.join(img_path, \"IMG_20200615_115045984_GPS.json\")\n",
    "if os.path.isfile(sample_file):\n",
    "    # exiftool needs to be installed and available at command line in work dir\n",
    "    print(\"--- Output of all EXIF subsegment metadata Containing date information ---\")\n",
    "    !exiftool -G -s -exif:*date* {sample_file}\n",
    "    print(\"--- Same Data as json ---\") \n",
    "    !exiftool -G -s -j -exif:*date* {sample_file}\n",
    "    print(\"--- Same Data as json / Short Version without groups ---\") \n",
    "    !exiftool -s -j -exif:*date* {sample_file}        \n",
    "    print(\"--- Output into json file (in samples folder ) ---\")\n",
    "    !exiftool -G -s -j -exif:*date* {sample_file} > {sample_json}\n",
    "    #now we can read the json into dict\n",
    "    print(\"reading from json into dict:\")\n",
    "    metadata_dict = P.read_json(sample_json)\n",
    "    U.print_dict_info(d=metadata_dict[0],s=\"Metadata with date information\")\n",
    "else:\n",
    "    print(f\"{sample_file} is not a file\")"
   ]
  },
  {
   "cell_type": "markdown",
   "metadata": {},
   "source": [
    "# Persistence Module\n",
    "Operations for saving / loading / copying data in various formats (txt, json, gpx xml format)"
   ]
  },
  {
   "cell_type": "markdown",
   "metadata": {},
   "source": [
    "### Copy and Rename\n",
    "\n",
    "Method to copy and rename files recursively from a folder hierarchy and filter / rename files using regex. See the `Persistence.copy_rename` method above, for further explanation call up the help:"
   ]
  },
  {
   "cell_type": "code",
   "execution_count": null,
   "metadata": {
    "scrolled": true
   },
   "outputs": [],
   "source": [
    "help(P.copy_rename)"
   ]
  },
  {
   "cell_type": "markdown",
   "metadata": {},
   "source": [
    "**Example**: Recursively copy all files with extension `.xyz` in path `\\20_FileCopy\\src` to path `\\20_FileCopy\\src` and renaming them with a prefix `'rename_'`"
   ]
  },
  {
   "cell_type": "code",
   "execution_count": null,
   "metadata": {},
   "outputs": [],
   "source": [
    "file_src_path = os.path.join(work_dir,\"20_FileCopy\\\\src\")\n",
    "file_trg_path = os.path.join(work_dir,\"20_FileCopy\\\\trg\")\n",
    "regex_filter = r\"xyz$\" # filter by xyz extension\n",
    "regex_subst = r\"^(.{1})\" # capture the first character\n",
    "s_subst = r\"renamed_\\1\" #replace the 1st character by rename_ and itself\n",
    "debug = True # show debug Information\n",
    "save = False # really save the results\n",
    "P.copy_rename(fp=file_src_path,trg_path_root=file_trg_path, \n",
    "            regex_filter=regex_filter, regex_subst=regex_subst, \n",
    "            s_subst=s_subst, debug=debug, save=save)\n"
   ]
  },
  {
   "cell_type": "markdown",
   "metadata": {},
   "source": [
    "### Read GPX files\n",
    "Read gpx xml files, also support heart rate and cadence from fitness watch. Key is UTC timestamp."
   ]
  },
  {
   "cell_type": "code",
   "execution_count": null,
   "metadata": {},
   "outputs": [],
   "source": [
    "# reading gpx data from work directory\n",
    "work_path = img_path\n",
    "gpx_path = os.path.join(work_path,\"track.gpx\")\n",
    "gpx = P.read_gpx(gpx_path)\n",
    "# print the first 3 gps points\n",
    "gpx_keys = list(gpx.keys())[:3] # timestamps used as keys\n",
    "[(k,datetime.utcfromtimestamp(k).strftime(\"%m/%d/%Y, %H:%M:%S\")\n",
    "  ,gpx[k]) for k in gpx_keys]"
   ]
  },
  {
   "cell_type": "markdown",
   "metadata": {},
   "source": [
    "### Get File Paths\n",
    "The `Persistence.get_file_list(path,file_type_filter=None)` method allows you to put in a single file ref, a list of files, or a path or a list of paths or a combinaton to get the full paths of files in a list. the file type filter allows you to filter for files with only specified extensions"
   ]
  },
  {
   "cell_type": "code",
   "execution_count": null,
   "metadata": {},
   "outputs": [],
   "source": [
    "work_path = img_path\n",
    "print(\"--- all files in work path ---\") \n",
    "fl = P.get_file_list(work_path)\n",
    "for f in fl:\n",
    "    print(f) \n",
    "print(\"\\n--- only gpx ---\") \n",
    "print(P.get_file_list(work_path,file_type_filter=\"gpx\"))\n",
    "print(\"\\n--- only certain files ---\")\n",
    "f1 = os.path.join(work_path,\"KeywordHierarchy.txt\")\n",
    "f2 = os.path.join(work_path,\"default.geo\")\n",
    "f = [f1,f2]\n",
    "print(P.get_file_list(f))"
   ]
  },
  {
   "cell_type": "markdown",
   "metadata": {},
   "source": [
    "# Geo Module"
   ]
  },
  {
   "cell_type": "code",
   "execution_count": null,
   "metadata": {},
   "outputs": [],
   "source": [
    "# convert lat lon from preparation step above into cartesian (X,Y,Z) coordinates\n",
    "c1 = list(coords[\"Tübingen\"].values())\n",
    "G.latlon2cartesian(c1)"
   ]
  },
  {
   "cell_type": "code",
   "execution_count": null,
   "metadata": {
    "scrolled": true
   },
   "outputs": [],
   "source": [
    "# calculate the distance in km of two coordinates (to initialize data, run the first cell above)\n",
    "c1 = list(coords[\"Tübingen\"].values())\n",
    "c2 = list(coords[\"Stuttgart\"].values())\n",
    "G.get_distance(c1,c2,debug=True)"
   ]
  },
  {
   "cell_type": "markdown",
   "metadata": {},
   "source": [
    "# Utils Module"
   ]
  },
  {
   "cell_type": "markdown",
   "metadata": {},
   "source": [
    "### Datetime Conversion\n",
    "get_timestamp returns timestamp, assumption time string is given in UTC (needs to be converted into UTC before)"
   ]
  },
  {
   "cell_type": "code",
   "execution_count": null,
   "metadata": {},
   "outputs": [],
   "source": [
    "from pytz import timezone\n",
    "tz = timezone('Europe/Berlin')\n",
    "utc = timezone('UTC')\n",
    "# get UTC Timestamp from Date String conforming to format ####-##-##T##:##:##Z / (+/-)##:##  \n",
    "now = datetime.now().astimezone(utc)\n",
    "print(\"Now:\",now)\n",
    "#now = datetime(2020, 1, 17,20,10,12)\n",
    "now_s = now.strftime(\"%Y-%m-%dT%H:%M:%SZ\")\n",
    "now_ts = U.get_timestamp(now_s)\n",
    "print(f\"Now DateTime {now} -> Now String: {now_s} -> UTC Timestamp {now_ts}\")\n",
    "#convert back from timestamp\n",
    "utc_dt = tz_utc.localize(datetime.utcfromtimestamp(now_ts))\n",
    "cet_dt = utc_dt.astimezone(tz_local)\n",
    "print(\"Timestamp -> Datetime UTC\",utc_dt,\" -> Datetime Local\",cet_dt)\n",
    "print(\"UTC Offset\",cet_dt.utcoffset(),\" Timezone\",cet_dt.tzinfo,\n",
    "      \" Daylight Saving Time OFFSET\",cet_dt.tzinfo.dst(cet_dt))"
   ]
  },
  {
   "cell_type": "code",
   "execution_count": null,
   "metadata": {
    "scrolled": true
   },
   "outputs": [],
   "source": [
    "# More examples > all same dates but differently formatted / default time Europe / Berlin \n",
    "dates = [\"2020-05:12 13:23:12\",\n",
    "         \"2020-05-12T11:23:12Z\",\n",
    "         \"2020-05-12T11:23:12.000Z\",\n",
    "         \"2020-05-12T13:23:12+02:00\"]\n",
    "for date_s in dates:\n",
    "    print(U.get_timestamp(date_s,debug=True))"
   ]
  },
  {
   "cell_type": "markdown",
   "metadata": {},
   "source": [
    "### Timestamp Offset\n",
    "Calculate offset when GPS time is differing from Camera time"
   ]
  },
  {
   "cell_type": "code",
   "execution_count": null,
   "metadata": {
    "scrolled": true
   },
   "outputs": [],
   "source": [
    "# Different time formats as string allowed see above\n",
    "s_gps = \"2020-05-12T13:23:20+02:00\" \n",
    "s_cam = \"2020-05:12 13:23:12\"\n",
    "\n",
    "offset = U.get_time_offset(time_camera=s_cam,time_gps=s_gps,debug=True) // timedelta(seconds=1)\n",
    "print(f\"Offset Camera - GPS is {offset} seconds\")"
   ]
  },
  {
   "cell_type": "markdown",
   "metadata": {},
   "source": [
    "### Binary Approximate Search\n",
    "Find the \"floor\" element in a sorted list of numbers that comes close to passed value "
   ]
  },
  {
   "cell_type": "code",
   "execution_count": null,
   "metadata": {},
   "outputs": [],
   "source": [
    "sorted_list = sorted([5,2.2,3.5,2,6,9,12])\n",
    "print(sorted_list)\n",
    "value1 = 5\n",
    "idx1 = U.get_nearby_index(value1,sorted_list)\n",
    "print(\"value\",value1,\"index \",idx1,\" list value ->\",sorted_list[idx1])\n",
    "value1 = 4\n",
    "idx1 = U.get_nearby_index(value1,sorted_list)\n",
    "print(\"value\",value1,\"index \",idx1,\" list value ->\",sorted_list[idx1])\n",
    "value1 = 0\n",
    "idx1 = U.get_nearby_index(value1,sorted_list)\n",
    "print(\"value\",value1,\"index \",idx1,\" list value ->\",sorted_list[idx1])\n",
    "value1 = 13\n",
    "idx1 = U.get_nearby_index(value1,sorted_list)\n",
    "print(\"value\",value1,\"index \",idx1,\" list value ->\",sorted_list[idx1])"
   ]
  },
  {
   "cell_type": "code",
   "execution_count": null,
   "metadata": {
    "scrolled": false
   },
   "outputs": [],
   "source": [
    "# here you can see how it chunks the sorted list into halfs\n",
    "value1 = 11.5\n",
    "idx1 = U.get_nearby_index(value1,sorted_list,debug=True)\n",
    "print(\"value\",value1,\"index \",idx1,\" list value ->\",sorted_list[idx1])"
   ]
  },
  {
   "cell_type": "markdown",
   "metadata": {},
   "source": [
    "# Exif Module"
   ]
  },
  {
   "cell_type": "markdown",
   "metadata": {},
   "source": [
    "### Metadata Hierarchy\n",
    "In photo management programs you often can maintain tags as hierarchies and export them as text file. In this file, a hierarchy level is represented as tab character. From this, you can construct hierarchical meta tags (stored as XMP:HierarchicalSubject in image metadata). The following method will read a hierarchy metadata file and put them into a dict with the \"leaf\" tag as dict key. This way, you can maintain a hierarchy and automatically get the hierachical meta tag by just maintaining the hierarchy in a text file.   "
   ]
  },
  {
   "cell_type": "code",
   "execution_count": null,
   "metadata": {},
   "outputs": [],
   "source": [
    "\n",
    "#get test hierarchy samples in samples subdirectory\n",
    "sample_hier = os.path.join(img_path, \"KeywordHierarchy.txt\")\n",
    "if not os.path.isfile(sample_hier):\n",
    "    raise Exception(f\"{sample_hier} NOT FOUND\")\n",
    "    \n",
    "lines = P.read_file(sample_hier)\n",
    "print(\"-----------HIERARCHY-------------\")\n",
    "for line in lines:\n",
    "    print(line.strip('\\n'))\n",
    "print(\"-----------OUTPUT-------------\")\n",
    "h_tag_dict = E.create_metahierarchy_from_str(lines,debug=False)\n",
    "U.print_dict_info(h_tag_dict)\n",
    "tag = \"Nature\"\n",
    "print(\"-----------Example-------------\")\n",
    "print(f\"Tag <{tag}> has hierarchical attribute <{h_tag_dict[tag]}>\")"
   ]
  },
  {
   "cell_type": "markdown",
   "metadata": {},
   "source": [
    "### Process Images with Exiftool\n",
    "In Class `ExifTool` executable will be triggered by `execute` method receiving control parameters and file list. In the constructor the image folder and the path to the Exiftool executable needs to be supplied. \n",
    "Convenience wrapper methods for handling metadata are supplied and described here. "
   ]
  },
  {
   "cell_type": "code",
   "execution_count": null,
   "metadata": {
    "scrolled": false
   },
   "outputs": [],
   "source": [
    "curr_path = img_path\n",
    "sample_jpg = os.path.join(curr_path, \"IMG_20200615_115045984_GPS.jpg\")\n",
    "exif_tool_loc = exiftool_path # define location in file config.json  \n",
    "print(\"Exiftool: \",exif_tool_loc)\n",
    "\n",
    "if not os.path.isfile(exif_tool_loc):\n",
    "    raise Exception(f\"EXIFTOOL NOT FOUND at location {exif_tool_loc}\")\n",
    "\n",
    "if not os.path.isfile(sample_jpg):\n",
    "    raise Exception(f\"file {sample_jpg} NOT FOUND\")\n",
    "\n",
    "# # important: needs to be handled via \"with\" command (-> executing \"__enter__\" method)    \n",
    "with E(exif_tool_loc) as exiftool:\n",
    "    # collects data of several files in one dictionary\n",
    "    try:\n",
    "        meta_dict = exiftool.get_metadict_from_img(sample_jpg)\n",
    "    except:\n",
    "        print(f\"error reading file {sample_jpg} check if it is there\")\n",
    "\n",
    "file_list = meta_dict.keys()\n",
    "\n",
    "for jpg_file in file_list:\n",
    "    print(f\"--- File {jpg_file} ---\")    \n",
    "    meta_list = meta_dict[jpg_file]\n",
    "    \n",
    "    for meta in meta_list:\n",
    "        print(f\"[{meta}] ->  {meta_list[meta]}\")            "
   ]
  },
  {
   "cell_type": "code",
   "execution_count": null,
   "metadata": {},
   "outputs": [],
   "source": [
    "# exif example: calculate time offset with Utility Module\n",
    "s_gps = \"2020:06:15 11:55:00\" # time read from image\n",
    "# reading meta dbata, from example above\n",
    "s_cam = meta_list['CreateDate']\n",
    "offset = U.get_time_offset(time_camera=s_cam,time_gps=s_gps,debug=False) // timedelta(minutes=1)\n",
    "print(f\"GPS time:{s_gps} Cam Time:{s_cam}, Offset Camera - GPS is {offset} minutes\")"
   ]
  },
  {
   "cell_type": "markdown",
   "metadata": {},
   "source": [
    "# Controller Module\n",
    "The Controller module plugs together all functionalities in order to put together all kind of metadata (GPS, metadata default values,...) and write them to image files. The main method is process_images ...\n",
    "For an operational example refer to the notebook [IMAGE_META_WORKFLOW](./IMAGE_META_WORKFLOW.ipynb)"
   ]
  }
 ],
 "metadata": {
  "kernelspec": {
   "display_name": "Python [conda env:MiniConda3]",
   "language": "python",
   "name": "conda-env-MiniConda3-py"
  },
  "language_info": {
   "codemirror_mode": {
    "name": "ipython",
    "version": 3
   },
   "file_extension": ".py",
   "mimetype": "text/x-python",
   "name": "python",
   "nbconvert_exporter": "python",
   "pygments_lexer": "ipython3",
   "version": "3.6.6"
  }
 },
 "nbformat": 4,
 "nbformat_minor": 2
}
