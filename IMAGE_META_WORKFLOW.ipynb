{
 "cells": [
  {
   "cell_type": "markdown",
   "metadata": {},
   "source": [
    "# Image Meta Workflow\n",
    "This notebook outlines some workflow details how to use the Image Metadata maintenance that can be done with the `image_meta` package. For an Introduction check out the [IMAGE_META Notebook](./IMAGE_META.ipynb)\n",
    "It requires a separate installation of **[EXIFTOOL](https://exiftool.org)**"
   ]
  },
  {
   "cell_type": "code",
   "execution_count": null,
   "metadata": {},
   "outputs": [],
   "source": [
    "import os\n",
    "import imp\n",
    "from image_meta import persistence\n",
    "from image_meta import controller\n",
    "from image_meta import exif\n",
    "from image_meta import util\n",
    "from image_meta import geo\n",
    "imp.reload(persistence)\n",
    "imp.reload(controller)\n",
    "imp.reload(exif)\n",
    "imp.reload(util)\n",
    "imp.reload(geo)\n",
    "from image_meta.persistence import Persistence\n",
    "from image_meta.controller import Controller\n",
    "from image_meta.exif import ExifTool\n",
    "from image_meta.util import Util\n",
    "from image_meta.geo import Geo"
   ]
  },
  {
   "cell_type": "markdown",
   "metadata": {},
   "source": [
    "# Workflow explained"
   ]
  },
  {
   "cell_type": "markdown",
   "metadata": {},
   "source": [
    "**Let's get started by copying the sample files:**"
   ]
  },
  {
   "cell_type": "code",
   "execution_count": null,
   "metadata": {
    "scrolled": true
   },
   "outputs": [],
   "source": [
    "# help on rename/copy function (check for details)\n",
    "help(Persistence.copy_rename)"
   ]
  },
  {
   "cell_type": "markdown",
   "metadata": {},
   "source": [
    "# Define variables\n"
   ]
  },
  {
   "cell_type": "code",
   "execution_count": null,
   "metadata": {},
   "outputs": [],
   "source": [
    "# define filepath \n",
    "initial_fp = os.getcwd()\n",
    "print(f\"Current Filepath: {initial_fp}\")\n",
    "\n",
    "# load the work settings json\n",
    "# settings_json = os.path.join(initial_fp,\"work_settings.json\")\n",
    "\n",
    "# if not os.path.isfile(settings_json):\n",
    "#     print(f\"{settings_json} is not a valid file\")\n",
    "#     work_dir = None\n",
    "# else:\n",
    "#     settings = Persistence.read_json(settings_json)\n",
    "#     print(f\"\\n--- Settings in file {settings_json} ---\")\n",
    "#     Util.print_dict_info(settings)\n",
    "# print(f\"Working Directory is valid directory: {os.path.isdir(work_dir)}\")\n",
    "\n",
    "# for the sample work dir is direct subpath\n",
    "work_dir = os.path.join(initial_fp,\"Sample\")\n",
    "print(f\"Work Dir: {work_dir}\")"
   ]
  },
  {
   "cell_type": "code",
   "execution_count": null,
   "metadata": {
    "scrolled": true
   },
   "outputs": [],
   "source": [
    "# files customized to your own requirements go into 00_OWN_STUFF\n",
    "work_dir_ownstuff = os.path.join(work_dir,\"00_OWN_STUFF\")\n",
    "# files with GPS data\n",
    "work_dir_gps = os.path.join(work_dir,\"10_RAW_GPS\")\n",
    "# files without GPS data\n",
    "work_dir_nogps = os.path.join(work_dir,\"10_RAW_NOGPS\")\n",
    "# files with exif metadata\n",
    "work_dir_meta = os.path.join(work_dir,\"10_RAW_WITH_META\")\n",
    "# original metadata\n",
    "meta_dir = os.path.join(work_dir,\"00_META\")\n",
    "# work directory\n",
    "target_dir = os.path.join(work_dir,\"img_test\")\n",
    "img_dir = target_dir\n",
    "print(f\"Original Jupyter path: {initial_fp}, \\nTarget directory {work_dir}\")\n",
    "\n",
    "# copy all test file to target work dir\n",
    "# check the docuemtation\n",
    "regex_filter=None\n",
    "regex_subst=None\n",
    "s_subst=\"\"\n",
    "debug=True\n",
    "save=True\n",
    "# copy images amnd meta files\n",
    "dirs = [work_dir_ownstuff,work_dir_gps,work_dir_nogps,meta_dir,work_dir_meta]\n",
    "for d in dirs:\n",
    "    Persistence.copy_rename(d,target_dir,\n",
    "                            regex_filter=regex_filter,regex_subst=regex_subst,\n",
    "                            s_subst=s_subst,debug=debug,save=save)  \n"
   ]
  },
  {
   "cell_type": "markdown",
   "metadata": {},
   "source": [
    "**Create a Metdata Template File**"
   ]
  },
  {
   "cell_type": "code",
   "execution_count": null,
   "metadata": {},
   "outputs": [],
   "source": [
    "# will be created in work directory / you can delete all entries with the \"INFO_\" prefix\n",
    "control_fp = Controller.create_param_template(filepath=img_dir,name=\"metadata.tpl\",showinfo=debug)\n",
    "print(f\"Creation of Template file: {control_fp}\")"
   ]
  },
  {
   "cell_type": "markdown",
   "metadata": {},
   "source": [
    "**That's how the template file looks like ... it also contains descriptions (INFO_...) that you can delete afterwards**"
   ]
  },
  {
   "cell_type": "code",
   "execution_count": null,
   "metadata": {
    "scrolled": true
   },
   "outputs": [],
   "source": [
    "# the control file is json\n",
    "control_template = Persistence.read_json(control_fp)\n",
    "# here we print out the json key / value pairs\n",
    "# Items starting with \"INFO_\" are meant for information only\n",
    "Util.print_dict_info(control_template)"
   ]
  },
  {
   "cell_type": "markdown",
   "metadata": {},
   "source": [
    "By means of this file you'll bundle data required to do the metadata handling. The `tpl` File references as auxiliary files as well control parameters in order to execute the metadata handling. \n",
    "\n",
    "You can copy the sample file `..\\image_meta_sample\\Sample\\img_test\\metadata_sample.tpl` and adjust the path in WORKING_DIRECTORY pointing to your `..image_meta_sample\\Sample\\img_test` directory. (mind the slash `/` to be used for directory for windows)\n",
    "\n",
    "**CAVEAT** Check that Files are UTF8 Files"
   ]
  },
  {
   "cell_type": "code",
   "execution_count": null,
   "metadata": {
    "scrolled": true
   },
   "outputs": [],
   "source": [
    "# here's the ref to your own control parameter file / adjust as needed\n",
    "showinfo = True\n",
    "control_fp = os.path.join(img_dir,\"metadata_own.tpl\")\n",
    "print(\"--- CONTROL PARAMETERS ---\")\n",
    "control_params = Controller.read_params_from_file(filepath=control_fp,showinfo=showinfo)"
   ]
  },
  {
   "cell_type": "markdown",
   "metadata": {},
   "source": [
    "And there's also a file that provides default values for EXIF keywords (Keys correspond to Exif Keys)"
   ]
  },
  {
   "cell_type": "code",
   "execution_count": null,
   "metadata": {
    "scrolled": true
   },
   "outputs": [],
   "source": [
    "fp_work_dir = control_params[\"WORK_DIR\"]\n",
    "print(f\"-----\\nWorking Directory {fp_work_dir}\\n-----\")\n",
    "fp_exif_metadata = control_params[\"META_FILE\"]\n",
    "print(f\"Exif Metafile {fp_exif_metadata}\\n-----\")\n",
    "\n",
    "# read its contents\n",
    "try:\n",
    "    meta_raw = Persistence.read_file(fp_exif_metadata)\n",
    "    meta_exif = ExifTool.arg2dict(meta_raw)\n",
    "except:\n",
    "    meta_exif = {}\n",
    "\n",
    "# print contents    \n",
    "Util.print_dict_info(meta_exif)"
   ]
  },
  {
   "cell_type": "markdown",
   "metadata": {},
   "source": [
    "Reading the metadata hierarchy file (needs to be UTF8)"
   ]
  },
  {
   "cell_type": "code",
   "execution_count": null,
   "metadata": {},
   "outputs": [],
   "source": [
    "fp_keyword_hier = control_params[\"KEYWORD_HIER_FILE\"]\n",
    "# raw data from file\n",
    "hier_raw = Persistence.read_file(fp_keyword_hier)\n",
    "print(f\"---\\nKeyword Hierarchy File\\n{fp_keyword_hier}\\n---\")\n",
    "# transforming raw text data into hierarcy dictionary\n",
    "keyword_hier = ExifTool.create_metahierarchy_from_str(hier_raw)\n",
    "Util.print_dict_info(keyword_hier)"
   ]
  },
  {
   "cell_type": "markdown",
   "metadata": {},
   "source": [
    "And we also get the GPX geodata ..."
   ]
  },
  {
   "cell_type": "code",
   "execution_count": null,
   "metadata": {
    "scrolled": true
   },
   "outputs": [],
   "source": [
    "fp_gpx = control_params[\"GPX_FILE\"]\n",
    "print(f\"-----\\nGPX File {fp_gpx}\\n-----\")\n",
    "gpx = Persistence.read_gpx(gpsx_path=fp_gpx,debug=True)"
   ]
  },
  {
   "cell_type": "markdown",
   "metadata": {},
   "source": [
    "With the gpx file, we can get the geo coordinates for a given time stamp"
   ]
  },
  {
   "cell_type": "code",
   "execution_count": null,
   "metadata": {},
   "outputs": [],
   "source": [
    "# keys are utc timestamps\n",
    "gpx_ts_list = sorted(gpx.keys())\n",
    "# sample datetime and timestamp\n",
    "sample_time = \"2020-06-15 11:50:45+02:00\"\n",
    "dt = Util.get_localized_datetime(dt_in=sample_time,as_timestamp=False)\n",
    "ts = Util.get_localized_datetime(dt_in=sample_time,as_timestamp=True)\n",
    "# get nearest timestamp on gps track\n",
    "ts_gps = gpx_ts_list[Util.get_nearby_index(ts,sorted_list=gpx_ts_list)]\n",
    "print(f\"Datetime {dt} Timestamp {ts} Timestamp GPS Track {ts_gps}\")\n",
    "# with the timestamp we can access the GPS Data\n",
    "gpx_dict = gpx[ts_gps]\n",
    "Util.print_dict_info(gpx_dict)\n",
    "# show gps map\n",
    "print(\"Click to show location on OSM\")\n",
    "print(Geo.latlon2osm((gpx_dict[\"lat\"],gpx_dict[\"lon\"])))"
   ]
  },
  {
   "cell_type": "markdown",
   "metadata": {},
   "source": [
    "Default GPS LatLon Data"
   ]
  },
  {
   "cell_type": "code",
   "execution_count": null,
   "metadata": {
    "scrolled": true
   },
   "outputs": [],
   "source": [
    "default_latlon = control_params[\"DEFAULT_LATLON\"]\n",
    "print(f\"-----\\nDefault LatLon coordinates {default_latlon}\\n-----\")"
   ]
  },
  {
   "cell_type": "markdown",
   "metadata": {},
   "source": [
    "From LatLon, Geo Reverse Data can be retrieved from web"
   ]
  },
  {
   "cell_type": "code",
   "execution_count": null,
   "metadata": {},
   "outputs": [],
   "source": [
    "geo_dict = Geo.geo_reverse_from_nominatim(default_latlon,debug=False)"
   ]
  },
  {
   "cell_type": "markdown",
   "metadata": {},
   "source": [
    "Show the data"
   ]
  },
  {
   "cell_type": "code",
   "execution_count": null,
   "metadata": {
    "scrolled": false
   },
   "outputs": [],
   "source": [
    "Util.print_dict_info(geo_dict)"
   ]
  },
  {
   "cell_type": "markdown",
   "metadata": {},
   "source": [
    "**Follow Up actions**\n",
    "\n",
    "The processing of metadata by means of Exiftool is sketched in the other Jupyter Notebook. \n",
    "\n",
    "This is just meant for information. Putting all data in a Control data file and let do the controller class do the orchestration of all data processing will execute the whole metadata processing.\n",
    "\n",
    "The workflow is as follows:\n",
    "* Load template data, gps data, keyword hierarchy\n",
    "* Load image files\n",
    "* For each image, read technical metadata (to be used as additional EXIF data)\n",
    "* For each image, check if gps data can be assigned (depending on creation date). If not, default GPS data are assigned\n",
    "* If GPS data can be found, execute a georeverse search and save the data to a separate file\n",
    "* For each image, assign template metadata, keyword hierarchy, gps data, and geometadata from georeverse search\n",
    "* For each image, save a file with all augmented data to a separate metadata file\n",
    "* For each image, change metadata from the metadata file generated in previous step"
   ]
  },
  {
   "cell_type": "markdown",
   "metadata": {},
   "source": [
    "# Workflow Steps with Controller Module\n",
    "\n",
    "Having shown some of the files required to process images, we can put together all items"
   ]
  },
  {
   "cell_type": "markdown",
   "metadata": {},
   "source": [
    "Control data file needs to be defined / referenced as filepath (execute cells above)"
   ]
  },
  {
   "cell_type": "code",
   "execution_count": null,
   "metadata": {},
   "outputs": [],
   "source": [
    "# here's the ref to your own control parameter file / adjust as needed\n",
    "showinfo = False\n",
    "control_fp = os.path.join(img_dir,\"metadata_own.tpl\")"
   ]
  },
  {
   "cell_type": "code",
   "execution_count": null,
   "metadata": {
    "scrolled": true
   },
   "outputs": [],
   "source": [
    "print(f\"Filepath to Control File: {control_fp}\")"
   ]
  },
  {
   "cell_type": "markdown",
   "metadata": {},
   "source": [
    "Here we read the file again ... parameters will be used to control execution / find files for processing"
   ]
  },
  {
   "cell_type": "code",
   "execution_count": null,
   "metadata": {
    "scrolled": true
   },
   "outputs": [],
   "source": [
    "print(\"--- CONTROL PARAMETERS ---\")\n",
    "control_params = Controller.read_params_from_file(filepath=control_fp,showinfo=showinfo)\n",
    "control_params"
   ]
  },
  {
   "cell_type": "markdown",
   "metadata": {},
   "source": [
    "`Controller.prepare_execution` checks for all files referenced in `ontrol_params` and blends together data."
   ]
  },
  {
   "cell_type": "code",
   "execution_count": null,
   "metadata": {
    "scrolled": true
   },
   "outputs": [],
   "source": [
    "showinfo = True\n",
    "augmented_params = Controller.prepare_execution(template_dict=control_params,showinfo=showinfo)   "
   ]
  },
  {
   "cell_type": "markdown",
   "metadata": {},
   "source": [
    "Compiled parameters wil be used to create gelocation (.geo) / control files with metadata (.meta) that will be written as EXIF data"
   ]
  },
  {
   "cell_type": "code",
   "execution_count": null,
   "metadata": {},
   "outputs": [],
   "source": [
    "verbose = False # detailed output\n",
    "Controller.prepare_img_write(params=augmented_params,debug=showinfo,verbose=verbose)"
   ]
  },
  {
   "cell_type": "code",
   "execution_count": null,
   "metadata": {},
   "outputs": [],
   "source": [
    "# Todo Validate Method - Checking for plausible"
   ]
  }
 ],
 "metadata": {
  "kernelspec": {
   "display_name": "Python [conda env:MiniConda3]",
   "language": "python",
   "name": "conda-env-MiniConda3-py"
  },
  "language_info": {
   "codemirror_mode": {
    "name": "ipython",
    "version": 3
   },
   "file_extension": ".py",
   "mimetype": "text/x-python",
   "name": "python",
   "nbconvert_exporter": "python",
   "pygments_lexer": "ipython3",
   "version": "3.6.6"
  }
 },
 "nbformat": 4,
 "nbformat_minor": 4
}
